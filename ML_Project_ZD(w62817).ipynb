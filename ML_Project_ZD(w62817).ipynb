{
  "nbformat": 4,
  "nbformat_minor": 0,
  "metadata": {
    "colab": {
      "name": "ML_Project_ZD(w62817).ipynb",
      "provenance": [],
      "collapsed_sections": [],
      "authorship_tag": "ABX9TyMNbAGVEIDo+juzcRIMu0CT",
      "include_colab_link": true
    },
    "kernelspec": {
      "name": "python3",
      "display_name": "Python 3"
    }
  },
  "cells": [
    {
      "cell_type": "markdown",
      "metadata": {
        "id": "view-in-github",
        "colab_type": "text"
      },
      "source": [
        "<a href=\"https://colab.research.google.com/github/Fameless4ellL/GoogleCollabML/blob/main/ML_Project_ZD(w62817).ipynb\" target=\"_parent\"><img src=\"https://colab.research.google.com/assets/colab-badge.svg\" alt=\"Open In Colab\"/></a>"
      ]
    },
    {
      "cell_type": "code",
      "metadata": {
        "id": "IghGzjxKpF6A"
      },
      "source": [
        "import pandas as pd\n",
        "import numpy as np\n",
        "from pandas import DataFrame\n",
        "from sklearn.datasets import load_iris\n",
        "from sklearn.tree import DecisionTreeClassifier\n",
        "from sklearn.model_selection import train_test_split"
      ],
      "execution_count": null,
      "outputs": []
    },
    {
      "cell_type": "code",
      "metadata": {
        "colab": {
          "base_uri": "https://localhost:8080/"
        },
        "id": "Hdx10ICZpjZK",
        "outputId": "d9b26fcc-691b-4380-f504-c26cb9da13eb"
      },
      "source": [
        "data = pd.read_csv('/content/COMP_07.txt', '\\t')\n",
        "print(data)"
      ],
      "execution_count": null,
      "outputs": [
        {
          "output_type": "stream",
          "text": [
            "     Size   Color  Feel Temperature  Attitude\n",
            "0     big  yellow  hard         low  positive\n",
            "1     big  yellow  soft        high  negative\n",
            "2  medium  yellow  soft        high  positive\n",
            "3  medium    blue  hard        high  negative\n",
            "4  medium    blue  soft         low  positive\n",
            "5  medium    blue  soft         low  positive\n"
          ],
          "name": "stdout"
        }
      ]
    },
    {
      "cell_type": "code",
      "metadata": {
        "colab": {
          "base_uri": "https://localhost:8080/"
        },
        "id": "j4-CguS5Tmqj",
        "outputId": "9cec4b5d-e447-4bfa-ffb4-df14e9ff09a6"
      },
      "source": [
        "#Function to calculate final Entropy \n",
        "def entropy(probs):  \n",
        "    import math\n",
        "    return sum( [-prob*math.log(prob, 2) for prob in probs] )\n",
        "\n",
        "#Function to calculate Probabilities of positive and negative examples \n",
        "def entropy_of_list(a_list):\n",
        "    from collections import Counter\n",
        "    cnt = Counter(x for x in a_list) #Count the positive and negative ex\n",
        "    num_instances = len(a_list)\n",
        "    #Calculate the probabilities that we required for our entropy formula \n",
        "    probs = [x / num_instances for x in cnt.values()]\n",
        "    #print(cnt, end=' = ')\n",
        "    #print(str(num_instances))\n",
        "    print('-'+str(probs)+' * log2('+str(probs)+')', end=' = ')\n",
        "    import math \n",
        "    print('sum('+str([-prob*math.log(prob, 2) for prob in probs])+')', end=' = ')\n",
        "    print(sum([-prob*math.log(prob, 2) for prob in probs]))\n",
        "    #Calling entropy function for final entropy \n",
        "    return entropy(probs)\n",
        "\n",
        "total_entropy = entropy_of_list(data['Attitude'])\n",
        "print(\"\\n Total Entropy of COMP_07 Data Set:\",total_entropy)"
      ],
      "execution_count": null,
      "outputs": [
        {
          "output_type": "stream",
          "text": [
            "-[0.6666666666666666, 0.3333333333333333] * log2([0.6666666666666666, 0.3333333333333333]) = sum([0.38997500048077083, 0.5283208335737187]) = 0.9182958340544896\n",
            "\n",
            " Total Entropy of COMP_07 Data Set: 0.9182958340544896\n"
          ],
          "name": "stdout"
        }
      ]
    },
    {
      "cell_type": "code",
      "metadata": {
        "id": "TfDoKZjqUhp8"
      },
      "source": [
        "#Defining Information Gain Function \n",
        "def information_gain(df, split_attribute_name, target_attribute_name, trace=0):\n",
        "  print(\"Information Gain Calculation of \",split_attribute_name)\n",
        "  print(\"target_attribute_name\",target_attribute_name)\n",
        "  \n",
        "  #Grouping features of Current Attribute\n",
        "  df_split = df.groupby(split_attribute_name)\n",
        "  for name,group in df_split:\n",
        "        print(\"Name: \",name)\n",
        "        print(\"Group: \",group)\n",
        "  nobs = len(df.index) * 1.0\n",
        "  print(\"NOBS\",nobs)\n",
        "\n",
        "  #Calculating Entropy of the Attribute and probability part of formula \n",
        "  df_agg_ent = df_split.agg({target_attribute_name : [entropy_of_list, lambda x: len(x)/nobs] })[target_attribute_name]\n",
        "  print(\"df_agg_ent\",df_agg_ent)\n",
        "  df_agg_ent.columns = ['Entropy', 'Prob1']\n",
        "\n",
        "  # Calculate Information Gain\n",
        "  new_entropy = sum( df_agg_ent['Entropy'] * df_agg_ent['Prob1'] )\n",
        "  old_entropy = entropy_of_list(df[target_attribute_name])\n",
        "  print('Entropy of COMP_07 Data('+str(old_entropy)+') - '+str(new_entropy))\n",
        "  print('Info-gain is :'+str(old_entropy - new_entropy))\n",
        "  return old_entropy - new_entropy\n"
      ],
      "execution_count": null,
      "outputs": []
    },
    {
      "cell_type": "code",
      "metadata": {
        "colab": {
          "base_uri": "https://localhost:8080/"
        },
        "id": "-pc4YX0BqA0j",
        "outputId": "cb6709cc-4c89-484e-ccc9-586ebb6b6aa7"
      },
      "source": [
        "#test\n",
        "from pprint import pprint\n",
        "k = information_gain(data, 'Income', 'Attitude')\n",
        "pprint(k)"
      ],
      "execution_count": null,
      "outputs": [
        {
          "output_type": "stream",
          "text": [
            "Information Gain Calculation of  Income\n",
            "target_attribute_name Buy_computer\n",
            "Name:  high\n",
            "Group:    Income Student Sex Buy_computer\n",
            "2   high     yes   f          yes\n",
            "3   high     yes   m          yes\n",
            "Name:  low\n",
            "Group:    Income Student Sex Buy_computer\n",
            "4    low     yes   m           no\n",
            "5    low     yes   f           no\n",
            "7    low      no   f           no\n",
            "Name:  medium\n",
            "Group:     Income Student Sex Buy_computer\n",
            "0  medium     yes   m          yes\n",
            "1  medium      no   f           no\n",
            "6  medium     yes   f          yes\n",
            "8  medium      no   m           no\n",
            "NOBS 9.0\n",
            "-[1.0] * log2([1.0]) = sum([-0.0]) = 0.0\n",
            "-[1.0] * log2([1.0]) = sum([-0.0]) = 0.0\n",
            "-[0.5, 0.5] * log2([0.5, 0.5]) = sum([0.5, 0.5]) = 1.0\n",
            "df_agg_ent         entropy_of_list  <lambda_0>\n",
            "Income                             \n",
            "high                0.0    0.222222\n",
            "low                 0.0    0.333333\n",
            "medium              1.0    0.444444\n",
            "-[0.4444444444444444, 0.5555555555555556] * log2([0.4444444444444444, 0.5555555555555556]) = sum([0.5199666673076944, 0.4711093925305278]) = 0.9910760598382222\n",
            "Entropy of COMP_07 Data(0.9910760598382222) - 0.4444444444444444\n",
            "Info-gain is :0.5466316153937778\n",
            "0.5466316153937778\n"
          ],
          "name": "stdout"
        }
      ]
    },
    {
      "cell_type": "markdown",
      "metadata": {
        "id": "gCdyvX527uYh"
      },
      "source": [
        "#ID3 Algorithm "
      ]
    },
    {
      "cell_type": "code",
      "metadata": {
        "id": "W-DOTkQZeAp_"
      },
      "source": [
        "#ID3  Algorithm Function\n",
        "def id3(df, target_attribute_name, attribute_names, default_class=None):\n",
        "#Counting Total number of yes and no classes (Positive and negative Ex)\n",
        "  from collections import Counter\n",
        "  cnt = Counter(x for x in df[target_attribute_name])\n",
        "  if len(cnt) == 1:\n",
        "    return next(iter(cnt))\n",
        "# Return None for Empty Data Set \n",
        "  elif df.empty or (not attribute_names):\n",
        "    return default_class\n",
        "  else:\n",
        "    default_class = max(cnt.keys())\n",
        "    print(\"attribute_names:\",attribute_names)\n",
        "    gainz = [information_gain(df, attr, target_attribute_name) for attr in attribute_names] \n",
        "    #Separating the maximum information gain attribute after calculating the information gain \n",
        "    index_of_max = gainz.index(max(gainz)) #Index of Best Attribute \n",
        "    best_attr = attribute_names[index_of_max] #choosing best attribute \n",
        "    #The tree is initially an empty dictionary\n",
        "    tree = {best_attr:{}} # Initiate the tree with best attribute as a node \n",
        "    remaining_attribute_names = [i for i in attribute_names if i != best_attr]\n",
        "    for attr_val, data_subset in df.groupby(best_attr):\n",
        "      subtree = id3(data_subset,\n",
        "                          target_attribute_name,\n",
        "                          remaining_attribute_names,\n",
        "                          default_class)\n",
        "      tree[best_attr][attr_val] = subtree\n",
        "  return tree"
      ],
      "execution_count": null,
      "outputs": []
    },
    {
      "cell_type": "code",
      "metadata": {
        "colab": {
          "base_uri": "https://localhost:8080/"
        },
        "id": "AOrigvtNixEM",
        "outputId": "c386fb5b-b53f-468e-e878-a9dc958050f4"
      },
      "source": [
        "attribute_names = list(data.columns)\n",
        "print(\"List of Attributes:\", attribute_names) \n",
        "attribute_names.remove('Attitude')\n",
        "#Remove the class attribute \n",
        "print(\"Predicting Attributes:\", attribute_names)"
      ],
      "execution_count": null,
      "outputs": [
        {
          "output_type": "stream",
          "text": [
            "List of Attributes: ['Size', 'Color', 'Feel', 'Temperature', 'Attitude']\n",
            "Predicting Attributes: ['Size', 'Color', 'Feel', 'Temperature']\n"
          ],
          "name": "stdout"
        }
      ]
    },
    {
      "cell_type": "code",
      "metadata": {
        "colab": {
          "base_uri": "https://localhost:8080/"
        },
        "id": "RFmFl5syifEM",
        "outputId": "e40e73b7-8425-4591-915d-e93a66254f94"
      },
      "source": [
        "from pprint import pprint\n",
        "tree = id3(data,'Attitude',attribute_names)\n",
        "print(\"\\n\\nThe Resultant Decision Tree is :\\n\")\n",
        "pprint(tree)\n",
        "attribute = next(iter(tree))\n",
        "print(\"Best Attribute :\\n\",attribute)\n",
        "print(\"Tree Keys:\\n\",tree[attribute].keys())"
      ],
      "execution_count": null,
      "outputs": [
        {
          "output_type": "stream",
          "text": [
            "attribute_names: ['Size', 'Color', 'Feel', 'Temperature']\n",
            "Information Gain Calculation of  Size\n",
            "target_attribute_name Attitude\n",
            "Name:  big\n",
            "Group:    Size   Color  Feel Temperature  Attitude\n",
            "0  big  yellow  hard         low  positive\n",
            "1  big  yellow  soft        high  negative\n",
            "Name:  medium\n",
            "Group:       Size   Color  Feel Temperature  Attitude\n",
            "2  medium  yellow  soft        high  positive\n",
            "3  medium    blue  hard        high  negative\n",
            "4  medium    blue  soft         low  positive\n",
            "5  medium    blue  soft         low  positive\n",
            "NOBS 6.0\n",
            "-[0.5, 0.5] * log2([0.5, 0.5]) = sum([0.5, 0.5]) = 1.0\n",
            "-[0.75, 0.25] * log2([0.75, 0.25]) = sum([0.31127812445913283, 0.5]) = 0.8112781244591328\n",
            "df_agg_ent         entropy_of_list  <lambda_0>\n",
            "Size                               \n",
            "big            1.000000    0.333333\n",
            "medium         0.811278    0.666667\n",
            "-[0.6666666666666666, 0.3333333333333333] * log2([0.6666666666666666, 0.3333333333333333]) = sum([0.38997500048077083, 0.5283208335737187]) = 0.9182958340544896\n",
            "Entropy of COMP_07 Data(0.9182958340544896) - 0.8741854163060885\n",
            "Info-gain is :0.044110417748401076\n",
            "Information Gain Calculation of  Color\n",
            "target_attribute_name Attitude\n",
            "Name:  blue\n",
            "Group:       Size Color  Feel Temperature  Attitude\n",
            "3  medium  blue  hard        high  negative\n",
            "4  medium  blue  soft         low  positive\n",
            "5  medium  blue  soft         low  positive\n",
            "Name:  yellow\n",
            "Group:       Size   Color  Feel Temperature  Attitude\n",
            "0     big  yellow  hard         low  positive\n",
            "1     big  yellow  soft        high  negative\n",
            "2  medium  yellow  soft        high  positive\n",
            "NOBS 6.0\n",
            "-[0.3333333333333333, 0.6666666666666666] * log2([0.3333333333333333, 0.6666666666666666]) = sum([0.5283208335737187, 0.38997500048077083]) = 0.9182958340544896\n",
            "-[0.6666666666666666, 0.3333333333333333] * log2([0.6666666666666666, 0.3333333333333333]) = sum([0.38997500048077083, 0.5283208335737187]) = 0.9182958340544896\n",
            "df_agg_ent         entropy_of_list  <lambda_0>\n",
            "Color                              \n",
            "blue           0.918296         0.5\n",
            "yellow         0.918296         0.5\n",
            "-[0.6666666666666666, 0.3333333333333333] * log2([0.6666666666666666, 0.3333333333333333]) = sum([0.38997500048077083, 0.5283208335737187]) = 0.9182958340544896\n",
            "Entropy of COMP_07 Data(0.9182958340544896) - 0.9182958340544896\n",
            "Info-gain is :0.0\n",
            "Information Gain Calculation of  Feel\n",
            "target_attribute_name Attitude\n",
            "Name:  hard\n",
            "Group:       Size   Color  Feel Temperature  Attitude\n",
            "0     big  yellow  hard         low  positive\n",
            "3  medium    blue  hard        high  negative\n",
            "Name:  soft\n",
            "Group:       Size   Color  Feel Temperature  Attitude\n",
            "1     big  yellow  soft        high  negative\n",
            "2  medium  yellow  soft        high  positive\n",
            "4  medium    blue  soft         low  positive\n",
            "5  medium    blue  soft         low  positive\n",
            "NOBS 6.0\n",
            "-[0.5, 0.5] * log2([0.5, 0.5]) = sum([0.5, 0.5]) = 1.0\n",
            "-[0.25, 0.75] * log2([0.25, 0.75]) = sum([0.5, 0.31127812445913283]) = 0.8112781244591328\n",
            "df_agg_ent       entropy_of_list  <lambda_0>\n",
            "Feel                             \n",
            "hard         1.000000    0.333333\n",
            "soft         0.811278    0.666667\n",
            "-[0.6666666666666666, 0.3333333333333333] * log2([0.6666666666666666, 0.3333333333333333]) = sum([0.38997500048077083, 0.5283208335737187]) = 0.9182958340544896\n",
            "Entropy of COMP_07 Data(0.9182958340544896) - 0.8741854163060885\n",
            "Info-gain is :0.044110417748401076\n",
            "Information Gain Calculation of  Temperature\n",
            "target_attribute_name Attitude\n",
            "Name:  high\n",
            "Group:       Size   Color  Feel Temperature  Attitude\n",
            "1     big  yellow  soft        high  negative\n",
            "2  medium  yellow  soft        high  positive\n",
            "3  medium    blue  hard        high  negative\n",
            "Name:  low\n",
            "Group:       Size   Color  Feel Temperature  Attitude\n",
            "0     big  yellow  hard         low  positive\n",
            "4  medium    blue  soft         low  positive\n",
            "5  medium    blue  soft         low  positive\n",
            "NOBS 6.0\n",
            "-[0.6666666666666666, 0.3333333333333333] * log2([0.6666666666666666, 0.3333333333333333]) = sum([0.38997500048077083, 0.5283208335737187]) = 0.9182958340544896\n",
            "-[1.0] * log2([1.0]) = sum([-0.0]) = 0.0\n",
            "df_agg_ent              entropy_of_list  <lambda_0>\n",
            "Temperature                             \n",
            "high                0.918296         0.5\n",
            "low                 0.000000         0.5\n",
            "-[0.6666666666666666, 0.3333333333333333] * log2([0.6666666666666666, 0.3333333333333333]) = sum([0.38997500048077083, 0.5283208335737187]) = 0.9182958340544896\n",
            "Entropy of COMP_07 Data(0.9182958340544896) - 0.4591479170272448\n",
            "Info-gain is :0.4591479170272448\n",
            "attribute_names: ['Size', 'Color', 'Feel']\n",
            "Information Gain Calculation of  Size\n",
            "target_attribute_name Attitude\n",
            "Name:  big\n",
            "Group:    Size   Color  Feel Temperature  Attitude\n",
            "1  big  yellow  soft        high  negative\n",
            "Name:  medium\n",
            "Group:       Size   Color  Feel Temperature  Attitude\n",
            "2  medium  yellow  soft        high  positive\n",
            "3  medium    blue  hard        high  negative\n",
            "NOBS 3.0\n",
            "-[1.0] * log2([1.0]) = sum([-0.0]) = 0.0\n",
            "-[0.5, 0.5] * log2([0.5, 0.5]) = sum([0.5, 0.5]) = 1.0\n",
            "df_agg_ent         entropy_of_list  <lambda_0>\n",
            "Size                               \n",
            "big                 0.0    0.333333\n",
            "medium              1.0    0.666667\n",
            "-[0.6666666666666666, 0.3333333333333333] * log2([0.6666666666666666, 0.3333333333333333]) = sum([0.38997500048077083, 0.5283208335737187]) = 0.9182958340544896\n",
            "Entropy of COMP_07 Data(0.9182958340544896) - 0.6666666666666666\n",
            "Info-gain is :0.2516291673878229\n",
            "Information Gain Calculation of  Color\n",
            "target_attribute_name Attitude\n",
            "Name:  blue\n",
            "Group:       Size Color  Feel Temperature  Attitude\n",
            "3  medium  blue  hard        high  negative\n",
            "Name:  yellow\n",
            "Group:       Size   Color  Feel Temperature  Attitude\n",
            "1     big  yellow  soft        high  negative\n",
            "2  medium  yellow  soft        high  positive\n",
            "NOBS 3.0\n",
            "-[1.0] * log2([1.0]) = sum([-0.0]) = 0.0\n",
            "-[0.5, 0.5] * log2([0.5, 0.5]) = sum([0.5, 0.5]) = 1.0\n",
            "df_agg_ent         entropy_of_list  <lambda_0>\n",
            "Color                              \n",
            "blue                0.0    0.333333\n",
            "yellow              1.0    0.666667\n",
            "-[0.6666666666666666, 0.3333333333333333] * log2([0.6666666666666666, 0.3333333333333333]) = sum([0.38997500048077083, 0.5283208335737187]) = 0.9182958340544896\n",
            "Entropy of COMP_07 Data(0.9182958340544896) - 0.6666666666666666\n",
            "Info-gain is :0.2516291673878229\n",
            "Information Gain Calculation of  Feel\n",
            "target_attribute_name Attitude\n",
            "Name:  hard\n",
            "Group:       Size Color  Feel Temperature  Attitude\n",
            "3  medium  blue  hard        high  negative\n",
            "Name:  soft\n",
            "Group:       Size   Color  Feel Temperature  Attitude\n",
            "1     big  yellow  soft        high  negative\n",
            "2  medium  yellow  soft        high  positive\n",
            "NOBS 3.0\n",
            "-[1.0] * log2([1.0]) = sum([-0.0]) = 0.0\n",
            "-[0.5, 0.5] * log2([0.5, 0.5]) = sum([0.5, 0.5]) = 1.0\n",
            "df_agg_ent       entropy_of_list  <lambda_0>\n",
            "Feel                             \n",
            "hard              0.0    0.333333\n",
            "soft              1.0    0.666667\n",
            "-[0.6666666666666666, 0.3333333333333333] * log2([0.6666666666666666, 0.3333333333333333]) = sum([0.38997500048077083, 0.5283208335737187]) = 0.9182958340544896\n",
            "Entropy of COMP_07 Data(0.9182958340544896) - 0.6666666666666666\n",
            "Info-gain is :0.2516291673878229\n",
            "attribute_names: ['Color', 'Feel']\n",
            "Information Gain Calculation of  Color\n",
            "target_attribute_name Attitude\n",
            "Name:  blue\n",
            "Group:       Size Color  Feel Temperature  Attitude\n",
            "3  medium  blue  hard        high  negative\n",
            "Name:  yellow\n",
            "Group:       Size   Color  Feel Temperature  Attitude\n",
            "2  medium  yellow  soft        high  positive\n",
            "NOBS 2.0\n",
            "-[1.0] * log2([1.0]) = sum([-0.0]) = 0.0\n",
            "-[1.0] * log2([1.0]) = sum([-0.0]) = 0.0\n",
            "df_agg_ent         entropy_of_list  <lambda_0>\n",
            "Color                              \n",
            "blue                0.0         0.5\n",
            "yellow              0.0         0.5\n",
            "-[0.5, 0.5] * log2([0.5, 0.5]) = sum([0.5, 0.5]) = 1.0\n",
            "Entropy of COMP_07 Data(1.0) - 0.0\n",
            "Info-gain is :1.0\n",
            "Information Gain Calculation of  Feel\n",
            "target_attribute_name Attitude\n",
            "Name:  hard\n",
            "Group:       Size Color  Feel Temperature  Attitude\n",
            "3  medium  blue  hard        high  negative\n",
            "Name:  soft\n",
            "Group:       Size   Color  Feel Temperature  Attitude\n",
            "2  medium  yellow  soft        high  positive\n",
            "NOBS 2.0\n",
            "-[1.0] * log2([1.0]) = sum([-0.0]) = 0.0\n",
            "-[1.0] * log2([1.0]) = sum([-0.0]) = 0.0\n",
            "df_agg_ent       entropy_of_list  <lambda_0>\n",
            "Feel                             \n",
            "hard              0.0         0.5\n",
            "soft              0.0         0.5\n",
            "-[0.5, 0.5] * log2([0.5, 0.5]) = sum([0.5, 0.5]) = 1.0\n",
            "Entropy of COMP_07 Data(1.0) - 0.0\n",
            "Info-gain is :1.0\n",
            "\n",
            "\n",
            "The Resultant Decision Tree is :\n",
            "\n",
            "{'Temperature': {'high': {'Size': {'big': 'negative',\n",
            "                                   'medium': {'Color': {'blue': 'negative',\n",
            "                                                        'yellow': 'positive'}}}},\n",
            "                 'low': 'positive'}}\n",
            "Best Attribute :\n",
            " Temperature\n",
            "Tree Keys:\n",
            " dict_keys(['high', 'low'])\n"
          ],
          "name": "stdout"
        }
      ]
    },
    {
      "cell_type": "markdown",
      "metadata": {
        "id": "lfmZy82RjTr8"
      },
      "source": [
        "#ACCURACY "
      ]
    },
    {
      "cell_type": "code",
      "metadata": {
        "id": "02CiAVd3jDlk"
      },
      "source": [
        "#Defining a function to calculate accuracy\n",
        "def classify(instance, tree, default=None):\n",
        "  attribute = next(iter(tree))\n",
        "  print(\"Key:\",tree.keys())\n",
        "  print(\"Attribute:\",attribute)\n",
        "  print(\"Insance of Attribute :\",instance[attribute],attribute)\n",
        "  if instance[attribute] in tree[attribute].keys(): \n",
        "      result = tree[attribute][instance[attribute]]\n",
        "      print(\"Instance Attribute:\",instance[attribute],\"TreeKeys :\",tree[attribute].keys())\n",
        "      if isinstance(result, dict): \n",
        "          return classify(instance, result)\n",
        "      else:\n",
        "          return result \n",
        "  else:\n",
        "      return default"
      ],
      "execution_count": null,
      "outputs": []
    },
    {
      "cell_type": "code",
      "metadata": {
        "colab": {
          "base_uri": "https://localhost:8080/"
        },
        "id": "evsFJsGx4uo0",
        "outputId": "662606b5-1993-434d-aff7-c2a45f44390e"
      },
      "source": [
        "training_data = data.iloc[1:-4] \n",
        "\n",
        "test_data  = data.iloc[-4:]\n",
        "\n",
        "train_tree = id3(training_data, 'Buy_computer', attribute_names)\n",
        "\n",
        "test_data['predicted'] = test_data.apply(  \n",
        "\n",
        "classify, axis=1, args=(train_tree,'Yes') ) "
      ],
      "execution_count": null,
      "outputs": [
        {
          "output_type": "stream",
          "text": [
            "attribute_names: ['Income', 'Student', 'Sex']\n",
            "Information Gain Calculation of  Income\n",
            "target_attribute_name Buy_computer\n",
            "Name:  high\n",
            "Group:    Income Student Sex Buy_computer\n",
            "2   high     yes   f          yes\n",
            "3   high     yes   m          yes\n",
            "Name:  low\n",
            "Group:    Income Student Sex Buy_computer\n",
            "4    low     yes   m           no\n",
            "Name:  medium\n",
            "Group:     Income Student Sex Buy_computer\n",
            "1  medium      no   f           no\n",
            "NOBS 4.0\n",
            "-[1.0] * log2([1.0]) = sum([-0.0]) = 0.0\n",
            "-[1.0] * log2([1.0]) = sum([-0.0]) = 0.0\n",
            "-[1.0] * log2([1.0]) = sum([-0.0]) = 0.0\n",
            "df_agg_ent         entropy_of_list  <lambda_0>\n",
            "Income                             \n",
            "high                0.0        0.50\n",
            "low                 0.0        0.25\n",
            "medium              0.0        0.25\n",
            "-[0.5, 0.5] * log2([0.5, 0.5]) = sum([0.5, 0.5]) = 1.0\n",
            "Entropy of COMP_07 Data(1.0) - 0.0\n",
            "Info-gain is :1.0\n",
            "Information Gain Calculation of  Student\n",
            "target_attribute_name Buy_computer\n",
            "Name:  no\n",
            "Group:     Income Student Sex Buy_computer\n",
            "1  medium      no   f           no\n",
            "Name:  yes\n",
            "Group:    Income Student Sex Buy_computer\n",
            "2   high     yes   f          yes\n",
            "3   high     yes   m          yes\n",
            "4    low     yes   m           no\n",
            "NOBS 4.0\n",
            "-[1.0] * log2([1.0]) = sum([-0.0]) = 0.0\n",
            "-[0.6666666666666666, 0.3333333333333333] * log2([0.6666666666666666, 0.3333333333333333]) = sum([0.38997500048077083, 0.5283208335737187]) = 0.9182958340544896\n",
            "df_agg_ent          entropy_of_list  <lambda_0>\n",
            "Student                             \n",
            "no              0.000000        0.25\n",
            "yes             0.918296        0.75\n",
            "-[0.5, 0.5] * log2([0.5, 0.5]) = sum([0.5, 0.5]) = 1.0\n",
            "Entropy of COMP_07 Data(1.0) - 0.6887218755408672\n",
            "Info-gain is :0.31127812445913283\n",
            "Information Gain Calculation of  Sex\n",
            "target_attribute_name Buy_computer\n",
            "Name:  f\n",
            "Group:     Income Student Sex Buy_computer\n",
            "1  medium      no   f           no\n",
            "2    high     yes   f          yes\n",
            "Name:  m\n",
            "Group:    Income Student Sex Buy_computer\n",
            "3   high     yes   m          yes\n",
            "4    low     yes   m           no\n",
            "NOBS 4.0\n",
            "-[0.5, 0.5] * log2([0.5, 0.5]) = sum([0.5, 0.5]) = 1.0\n",
            "-[0.5, 0.5] * log2([0.5, 0.5]) = sum([0.5, 0.5]) = 1.0\n",
            "df_agg_ent      entropy_of_list  <lambda_0>\n",
            "Sex                             \n",
            "f                1.0         0.5\n",
            "m                1.0         0.5\n",
            "-[0.5, 0.5] * log2([0.5, 0.5]) = sum([0.5, 0.5]) = 1.0\n",
            "Entropy of COMP_07 Data(1.0) - 1.0\n",
            "Info-gain is :0.0\n",
            "Key: dict_keys(['Income'])\n",
            "Attribute: Income\n",
            "Insance of Attribute : low Income\n",
            "Instance Attribute: low TreeKeys : dict_keys(['high', 'low', 'medium'])\n",
            "Key: dict_keys(['Income'])\n",
            "Attribute: Income\n",
            "Insance of Attribute : medium Income\n",
            "Instance Attribute: medium TreeKeys : dict_keys(['high', 'low', 'medium'])\n",
            "Key: dict_keys(['Income'])\n",
            "Attribute: Income\n",
            "Insance of Attribute : low Income\n",
            "Instance Attribute: low TreeKeys : dict_keys(['high', 'low', 'medium'])\n",
            "Key: dict_keys(['Income'])\n",
            "Attribute: Income\n",
            "Insance of Attribute : medium Income\n",
            "Instance Attribute: medium TreeKeys : dict_keys(['high', 'low', 'medium'])\n"
          ],
          "name": "stdout"
        },
        {
          "output_type": "stream",
          "text": [
            "/usr/local/lib/python3.6/dist-packages/ipykernel_launcher.py:9: SettingWithCopyWarning: \n",
            "A value is trying to be set on a copy of a slice from a DataFrame.\n",
            "Try using .loc[row_indexer,col_indexer] = value instead\n",
            "\n",
            "See the caveats in the documentation: https://pandas.pydata.org/pandas-docs/stable/user_guide/indexing.html#returning-a-view-versus-a-copy\n",
            "  if __name__ == '__main__':\n"
          ],
          "name": "stderr"
        }
      ]
    },
    {
      "cell_type": "code",
      "metadata": {
        "colab": {
          "base_uri": "https://localhost:8080/",
          "height": 792
        },
        "id": "V2AKZAPN5wkZ",
        "outputId": "63a33a11-e6c5-49fc-f3f2-5aafda55fac6"
      },
      "source": [
        "training_data['predicted'] = training_data.apply(classify, axis=1, args=(tree,'No') ) \n",
        "\n",
        "print(training_data['predicted'])\n",
        "\n",
        "print('\\n Accuracy is:\\n' + str( sum(training_data['Buy_computer']==training_data['predicted'] ) / (1.0*len(training_data.index)) ))\n",
        "\n",
        "training_data[['Buy_computer', 'predicted']]"
      ],
      "execution_count": null,
      "outputs": [
        {
          "output_type": "stream",
          "text": [
            "Key: dict_keys(['Income'])\n",
            "Attribute: Income\n",
            "Insance of Attribute : medium Income\n",
            "Instance Attribute: medium TreeKeys : dict_keys(['high', 'low', 'medium'])\n",
            "Key: dict_keys(['Student'])\n",
            "Attribute: Student\n",
            "Insance of Attribute : no Student\n",
            "Instance Attribute: no TreeKeys : dict_keys(['no', 'yes'])\n",
            "Key: dict_keys(['Income'])\n",
            "Attribute: Income\n",
            "Insance of Attribute : high Income\n",
            "Instance Attribute: high TreeKeys : dict_keys(['high', 'low', 'medium'])\n",
            "Key: dict_keys(['Income'])\n",
            "Attribute: Income\n",
            "Insance of Attribute : high Income\n",
            "Instance Attribute: high TreeKeys : dict_keys(['high', 'low', 'medium'])\n",
            "Key: dict_keys(['Income'])\n",
            "Attribute: Income\n",
            "Insance of Attribute : low Income\n",
            "Instance Attribute: low TreeKeys : dict_keys(['high', 'low', 'medium'])\n",
            "1     no\n",
            "2    yes\n",
            "3    yes\n",
            "4     no\n",
            "Name: predicted, dtype: object\n",
            "\n",
            " Accuracy is:\n",
            "1.0\n"
          ],
          "name": "stdout"
        },
        {
          "output_type": "stream",
          "text": [
            "/usr/local/lib/python3.6/dist-packages/ipykernel_launcher.py:1: SettingWithCopyWarning: \n",
            "A value is trying to be set on a copy of a slice from a DataFrame.\n",
            "Try using .loc[row_indexer,col_indexer] = value instead\n",
            "\n",
            "See the caveats in the documentation: https://pandas.pydata.org/pandas-docs/stable/user_guide/indexing.html#returning-a-view-versus-a-copy\n",
            "  \"\"\"Entry point for launching an IPython kernel.\n"
          ],
          "name": "stderr"
        },
        {
          "output_type": "execute_result",
          "data": {
            "text/html": [
              "<div>\n",
              "<style scoped>\n",
              "    .dataframe tbody tr th:only-of-type {\n",
              "        vertical-align: middle;\n",
              "    }\n",
              "\n",
              "    .dataframe tbody tr th {\n",
              "        vertical-align: top;\n",
              "    }\n",
              "\n",
              "    .dataframe thead th {\n",
              "        text-align: right;\n",
              "    }\n",
              "</style>\n",
              "<table border=\"1\" class=\"dataframe\">\n",
              "  <thead>\n",
              "    <tr style=\"text-align: right;\">\n",
              "      <th></th>\n",
              "      <th>Buy_computer</th>\n",
              "      <th>predicted</th>\n",
              "    </tr>\n",
              "  </thead>\n",
              "  <tbody>\n",
              "    <tr>\n",
              "      <th>1</th>\n",
              "      <td>no</td>\n",
              "      <td>no</td>\n",
              "    </tr>\n",
              "    <tr>\n",
              "      <th>2</th>\n",
              "      <td>yes</td>\n",
              "      <td>yes</td>\n",
              "    </tr>\n",
              "    <tr>\n",
              "      <th>3</th>\n",
              "      <td>yes</td>\n",
              "      <td>yes</td>\n",
              "    </tr>\n",
              "    <tr>\n",
              "      <th>4</th>\n",
              "      <td>no</td>\n",
              "      <td>no</td>\n",
              "    </tr>\n",
              "  </tbody>\n",
              "</table>\n",
              "</div>"
            ],
            "text/plain": [
              "  Buy_computer predicted\n",
              "1           no        no\n",
              "2          yes       yes\n",
              "3          yes       yes\n",
              "4           no        no"
            ]
          },
          "metadata": {
            "tags": []
          },
          "execution_count": 24
        }
      ]
    },
    {
      "cell_type": "code",
      "metadata": {
        "colab": {
          "base_uri": "https://localhost:8080/",
          "height": 229
        },
        "id": "ebITnDj3jgSh",
        "outputId": "fe21402b-2a3c-4bef-cce0-555bf193b685"
      },
      "source": [
        "print ('\\n\\n Accuracy is : ' + str( sum(test_data['Buy_computer']==test_data['predicted'] ) / (1.0*len(test_data.index)) ))\n",
        "\n",
        "test_data[['Buy_computer', 'predicted']]"
      ],
      "execution_count": null,
      "outputs": [
        {
          "output_type": "stream",
          "text": [
            "\n",
            "\n",
            " Accuracy is : 0.75\n"
          ],
          "name": "stdout"
        },
        {
          "output_type": "execute_result",
          "data": {
            "text/html": [
              "<div>\n",
              "<style scoped>\n",
              "    .dataframe tbody tr th:only-of-type {\n",
              "        vertical-align: middle;\n",
              "    }\n",
              "\n",
              "    .dataframe tbody tr th {\n",
              "        vertical-align: top;\n",
              "    }\n",
              "\n",
              "    .dataframe thead th {\n",
              "        text-align: right;\n",
              "    }\n",
              "</style>\n",
              "<table border=\"1\" class=\"dataframe\">\n",
              "  <thead>\n",
              "    <tr style=\"text-align: right;\">\n",
              "      <th></th>\n",
              "      <th>Buy_computer</th>\n",
              "      <th>predicted</th>\n",
              "    </tr>\n",
              "  </thead>\n",
              "  <tbody>\n",
              "    <tr>\n",
              "      <th>5</th>\n",
              "      <td>no</td>\n",
              "      <td>no</td>\n",
              "    </tr>\n",
              "    <tr>\n",
              "      <th>6</th>\n",
              "      <td>yes</td>\n",
              "      <td>no</td>\n",
              "    </tr>\n",
              "    <tr>\n",
              "      <th>7</th>\n",
              "      <td>no</td>\n",
              "      <td>no</td>\n",
              "    </tr>\n",
              "    <tr>\n",
              "      <th>8</th>\n",
              "      <td>no</td>\n",
              "      <td>no</td>\n",
              "    </tr>\n",
              "  </tbody>\n",
              "</table>\n",
              "</div>"
            ],
            "text/plain": [
              "  Buy_computer predicted\n",
              "5           no        no\n",
              "6          yes        no\n",
              "7           no        no\n",
              "8           no        no"
            ]
          },
          "metadata": {
            "tags": []
          },
          "execution_count": 25
        }
      ]
    }
  ]
}