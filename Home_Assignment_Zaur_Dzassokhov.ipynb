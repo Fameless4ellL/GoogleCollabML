{
  "nbformat": 4,
  "nbformat_minor": 0,
  "metadata": {
    "kernelspec": {
      "display_name": "Python 3",
      "language": "python",
      "name": "python3"
    },
    "language_info": {
      "codemirror_mode": {
        "name": "ipython",
        "version": 3
      },
      "file_extension": ".py",
      "mimetype": "text/x-python",
      "name": "python",
      "nbconvert_exporter": "python",
      "pygments_lexer": "ipython3",
      "version": "3.7.9"
    },
    "colab": {
      "name": "Home_Assignment_Zaur_Dzassokhov.ipynb",
      "provenance": [],
      "include_colab_link": true
    }
  },
  "cells": [
    {
      "cell_type": "markdown",
      "metadata": {
        "id": "view-in-github",
        "colab_type": "text"
      },
      "source": [
        "<a href=\"https://colab.research.google.com/github/Fameless4ellL/GoogleCollabML/blob/main/Home_Assignment_Zaur_Dzassokhov.ipynb\" target=\"_parent\"><img src=\"https://colab.research.google.com/assets/colab-badge.svg\" alt=\"Open In Colab\"/></a>"
      ]
    },
    {
      "cell_type": "markdown",
      "metadata": {
        "id": "TpFPQEP5PGTk"
      },
      "source": [
        "# 2020 ML Engineer Home Assignment\n",
        "\n",
        "This is a Jupyter notebook containing exercises from 3  fields: \n",
        "1. Algorithms,\n",
        "2. Python,\n",
        "3. Spark.\n",
        "\n",
        "We think that it is possible to complete it within a couple hours and we are expecting that you will send back the results within a week (7 days).  \n",
        "Your submission can be in the form of this notebook with your code and necessary remarks added to it but we are fine with other forms, as well as partial solutions."
      ]
    },
    {
      "cell_type": "markdown",
      "metadata": {
        "id": "mD4G4Lb2PGTl"
      },
      "source": [
        "## Python requirements:\n",
        "\n",
        "You can use the below library versions for running this notebook.\n",
        "\n",
        "If you are using Conda to manage you Python environments you can use the command like below:\n",
        "```\n",
        "conda create --name vl-home-assignment --file requirements.txt\n",
        "```\n",
        "\n",
        "Requirements:\n",
        "```\n",
        "pyspark=2.3.0\n",
        "python=3.6.10\n",
        "jupyter\n",
        "```"
      ]
    },
    {
      "cell_type": "markdown",
      "metadata": {
        "id": "BRarGI0dPGTl"
      },
      "source": [
        "## Ex. 1: Algorithms\n",
        "\n",
        "You are given two singly-linked lists (precisely: the references to their heads).\n",
        "Implement an optimal (both in terms of memory and time) function that returns the intersection node.  \n",
        "\n",
        "We define intersection based on reference, not value. \n",
        "That is, if the k-th element of the first list is exactly the same node reference as the j-th element of the second list then the lists intersect. \n",
        "We expect that your solution will provide your own implementation of the singly-linked lists. \n",
        "Please provide a couple of examples testing your solution."
      ]
    },
    {
      "cell_type": "markdown",
      "metadata": {
        "pycharm": {
          "name": "#%% md\n"
        },
        "id": "PwMRLBO4PGTl"
      },
      "source": [
        "## Solution Ex.1"
      ]
    },
    {
      "cell_type": "code",
      "metadata": {
        "id": "Y0HxuORJPGTl",
        "outputId": "ff8a4738-30bf-4eaf-8c0b-fd1c0a6b0b59"
      },
      "source": [
        "# Space for you solution\n",
        "class Solution(object):\n",
        "    def getIntersectionNode(self, headA, headB):\n",
        "        \n",
        "        curA, curB = headA, headB\n",
        "        while curA != curB:\n",
        "            curA = headB if curA is None else curA.next\n",
        "            curB = headA if curB is None else curB.next\n",
        "            \n",
        "        return curA"
      ],
      "execution_count": null,
      "outputs": [
        {
          "output_type": "stream",
          "text": [
            "Hello world!\n"
          ],
          "name": "stdout"
        }
      ]
    },
    {
      "cell_type": "markdown",
      "metadata": {
        "id": "9FTGNwRcPGTn"
      },
      "source": [
        "## Ex. 2: Python\n",
        "\n",
        "Given two files `file.json` and `file.csv` containing the same mapping write a small library with loaders for these file formats. \n",
        "A loader `l` should have two public members `l.keys` and `l.data`.\n",
        "There should be a basic filtering functionality built around `keys` attribute as in the example below.\n",
        "\n",
        "Use Python Standard Library for parsing json and csv files.\n",
        "\n",
        "### Sample files\n",
        "`file.json`:\n",
        "```\n",
        "{\n",
        "  \"alfa\": 1,\n",
        "  \"beta\": 2\n",
        "}\n",
        "```\n",
        "`file.csv`:\n",
        "```\n",
        "alfa,1\n",
        "beta,2\n",
        "```\n",
        "\n",
        "### Sample usage\n",
        "```\n",
        "from file_loaders import JsonLoader, CsvLoader\n",
        "loaders: Tuple[Loader] = (\n",
        "    JsonLoader('file.json'),\n",
        "    CsvLoader('file.csv')\n",
        ")\n",
        "for l in loaders:\n",
        "    print(f\"======== {type(l).__name__} =======\")\n",
        "    print(f\"data: {l.data}\") # => {'alfa': 1, 'beta': 2}\n",
        "    print(f\"keys: {l.keys}\") # => ('alfa', 'beta')\n",
        "    l.keys = ('alfa')\n",
        "    print(f\"data: {l.data}\") # => {'alfa': 1}\n",
        "    print(f\"keys: {l.keys}\") # => alfa\n",
        "```"
      ]
    },
    {
      "cell_type": "markdown",
      "metadata": {
        "id": "7TWSrSvcPGTn"
      },
      "source": [
        "## Solution Ex.2"
      ]
    },
    {
      "cell_type": "code",
      "metadata": {
        "pycharm": {
          "name": "#%%\n"
        },
        "id": "aK_dVnTwPGTn"
      },
      "source": [
        "# file_loaders.py\n",
        "import csv\n",
        "import json\n",
        "\n",
        "\n",
        "class JsonLoader:\n",
        "    \"\"\"\n",
        "    Parse JSON - Convert data from JSON file to Python\n",
        "    \"\"\"\n",
        "\n",
        "    def __init__(self, path, bdata=None, keys=None, data=None):\n",
        "        self.path = path\n",
        "        self.bdata = bdata\n",
        "        self.keys = keys\n",
        "        self.data = data\n",
        "\n",
        "        with open(self.path, 'r') as f:\n",
        "            self.bdata = json.load(f)\n",
        "            self.data = self.bdata\n",
        "            self.keys = tuple(self.data.keys())\n",
        "        f.close()\n",
        "\n",
        "    @property\n",
        "    def data(self):\n",
        "        try:\n",
        "            if self._data == self.bdata:\n",
        "                dk = self._data[self._keys]\n",
        "                self._data = {self._keys: dk}\n",
        "            else:\n",
        "                self._data = self.bdata\n",
        "                dk = self._data[self._keys]\n",
        "                self._data = {self._keys: dk}\n",
        "        except:\n",
        "            pass\n",
        "        return self._data\n",
        "\n",
        "    @property\n",
        "    def keys(self):\n",
        "        return self._keys\n",
        "\n",
        "    @keys.setter\n",
        "    def keys(self, value):\n",
        "        self._keys = value\n",
        "\n",
        "    @data.setter\n",
        "    def data(self, value):\n",
        "        self._data = value\n",
        "\n",
        "\n",
        "class CsvLoader:\n",
        "    \"\"\"\n",
        "        Parse CSV - Convert data from csv file to Python\n",
        "    \"\"\"\n",
        "\n",
        "    def __init__(self, path, data=None, keys=None, bdata=None):\n",
        "        self.path = path\n",
        "        self.data = data\n",
        "        self.keys = keys\n",
        "        self.bdata = bdata\n",
        "\n",
        "        with open(self.path, 'r') as f:\n",
        "            reader = csv.reader(f)\n",
        "            vdata = []\n",
        "            for row in reader:\n",
        "                vdata.append(row)\n",
        "        f.close()\n",
        "        self.data = dict(vdata)\n",
        "        self.bdata = self._data\n",
        "        self.keys = tuple(self.data.keys())\n",
        "\n",
        "    @property\n",
        "    def data(self):\n",
        "        try:\n",
        "            if self._data == self.bdata:\n",
        "                dk = self._data[self._keys]\n",
        "                self._data = {self._keys: dk}\n",
        "            else:\n",
        "                self._data = self.bdata\n",
        "                dk = self._data[self._keys]\n",
        "                self._data = {self._keys: dk}\n",
        "        except:\n",
        "            pass\n",
        "        return self._data\n",
        "\n",
        "    @property\n",
        "    def keys(self):\n",
        "        return self._keys\n",
        "\n",
        "    @keys.setter\n",
        "    def keys(self, value):\n",
        "        self._keys = value\n",
        "\n",
        "    @data.setter\n",
        "    def data(self, value):\n",
        "        self._data = value"
      ],
      "execution_count": null,
      "outputs": []
    },
    {
      "cell_type": "code",
      "metadata": {
        "pycharm": {
          "name": "#%%\n"
        },
        "colab": {
          "base_uri": "https://localhost:8080/",
          "height": 371
        },
        "id": "MZlkQJliPGTn",
        "outputId": "5df8a236-7eef-4ad8-8812-3a57386c021a"
      },
      "source": [
        "# test.py\n",
        "from importlib.abc import Loader\n",
        "from typing import Tuple\n",
        "\n",
        "\n",
        "\n",
        "loaders: Tuple[Loader] = (\n",
        "    JsonLoader('file.json'),\n",
        "    CsvLoader('file.csv')\n",
        ")\n",
        "for l in loaders:\n",
        "    print(f\"======== {type(l).__name__} =======\")\n",
        "    print(f\"data: {l.data}\")  # => {'alfa': 1, 'beta': 2}\n",
        "    print(f\"keys: {l.keys}\")  # => ('alfa', 'beta')\n",
        "    l.keys = 'alfa'\n",
        "    print(f\"data: {l.data}\")  # => {'alfa': 1}\n",
        "    print(f\"keys: {l.keys}\")  # => alfa"
      ],
      "execution_count": null,
      "outputs": [
        {
          "output_type": "error",
          "ename": "FileNotFoundError",
          "evalue": "ignored",
          "traceback": [
            "\u001b[0;31m---------------------------------------------------------------------------\u001b[0m",
            "\u001b[0;31mFileNotFoundError\u001b[0m                         Traceback (most recent call last)",
            "\u001b[0;32m<ipython-input-6-80a8d99c6031>\u001b[0m in \u001b[0;36m<module>\u001b[0;34m()\u001b[0m\n\u001b[1;32m      6\u001b[0m \u001b[0;34m\u001b[0m\u001b[0m\n\u001b[1;32m      7\u001b[0m loaders: Tuple[Loader] = (\n\u001b[0;32m----> 8\u001b[0;31m     \u001b[0mJsonLoader\u001b[0m\u001b[0;34m(\u001b[0m\u001b[0;34m'file.json'\u001b[0m\u001b[0;34m)\u001b[0m\u001b[0;34m,\u001b[0m\u001b[0;34m\u001b[0m\u001b[0;34m\u001b[0m\u001b[0m\n\u001b[0m\u001b[1;32m      9\u001b[0m     \u001b[0mCsvLoader\u001b[0m\u001b[0;34m(\u001b[0m\u001b[0;34m'file.csv'\u001b[0m\u001b[0;34m)\u001b[0m\u001b[0;34m\u001b[0m\u001b[0;34m\u001b[0m\u001b[0m\n\u001b[1;32m     10\u001b[0m )\n",
            "\u001b[0;32m<ipython-input-5-53bc4ff6558a>\u001b[0m in \u001b[0;36m__init__\u001b[0;34m(self, path, bdata, keys, data)\u001b[0m\n\u001b[1;32m     15\u001b[0m         \u001b[0mself\u001b[0m\u001b[0;34m.\u001b[0m\u001b[0mdata\u001b[0m \u001b[0;34m=\u001b[0m \u001b[0mdata\u001b[0m\u001b[0;34m\u001b[0m\u001b[0;34m\u001b[0m\u001b[0m\n\u001b[1;32m     16\u001b[0m \u001b[0;34m\u001b[0m\u001b[0m\n\u001b[0;32m---> 17\u001b[0;31m         \u001b[0;32mwith\u001b[0m \u001b[0mopen\u001b[0m\u001b[0;34m(\u001b[0m\u001b[0mself\u001b[0m\u001b[0;34m.\u001b[0m\u001b[0mpath\u001b[0m\u001b[0;34m,\u001b[0m \u001b[0;34m'r'\u001b[0m\u001b[0;34m)\u001b[0m \u001b[0;32mas\u001b[0m \u001b[0mf\u001b[0m\u001b[0;34m:\u001b[0m\u001b[0;34m\u001b[0m\u001b[0;34m\u001b[0m\u001b[0m\n\u001b[0m\u001b[1;32m     18\u001b[0m             \u001b[0mself\u001b[0m\u001b[0;34m.\u001b[0m\u001b[0mbdata\u001b[0m \u001b[0;34m=\u001b[0m \u001b[0mjson\u001b[0m\u001b[0;34m.\u001b[0m\u001b[0mload\u001b[0m\u001b[0;34m(\u001b[0m\u001b[0mf\u001b[0m\u001b[0;34m)\u001b[0m\u001b[0;34m\u001b[0m\u001b[0;34m\u001b[0m\u001b[0m\n\u001b[1;32m     19\u001b[0m             \u001b[0mself\u001b[0m\u001b[0;34m.\u001b[0m\u001b[0mdata\u001b[0m \u001b[0;34m=\u001b[0m \u001b[0mself\u001b[0m\u001b[0;34m.\u001b[0m\u001b[0mbdata\u001b[0m\u001b[0;34m\u001b[0m\u001b[0;34m\u001b[0m\u001b[0m\n",
            "\u001b[0;31mFileNotFoundError\u001b[0m: [Errno 2] No such file or directory: 'file.json'"
          ]
        }
      ]
    },
    {
      "cell_type": "markdown",
      "metadata": {
        "id": "yrUwSKBkPGTn"
      },
      "source": [
        "## Ex. 3: Spark\n",
        "\n",
        "Below are two Spark dataframes representing 1) people and 2) hobbies.\n",
        "You are given two tasks.\n",
        "1. Show how many hobbies each person has.\n",
        "2. Show all hobbies that no one has.\n",
        "\n",
        "\n"
      ]
    },
    {
      "cell_type": "code",
      "metadata": {
        "colab": {
          "base_uri": "https://localhost:8080/",
          "height": 389
        },
        "id": "iZsgY6xsPGTn",
        "outputId": "064d9892-400c-4014-9863-6e8b5c50e2ee"
      },
      "source": [
        "from pyspark.sql import SparkSession\n",
        "from pyspark.sql.functions import col, count\n",
        "\n",
        "# global spark session\n",
        "spark = (SparkSession\n",
        "         .builder\n",
        "         .appName('MLEngineerSpark')\n",
        "         .master('local[2]')\n",
        "         .getOrCreate())\n"
      ],
      "execution_count": null,
      "outputs": [
        {
          "output_type": "error",
          "ename": "ModuleNotFoundError",
          "evalue": "ignored",
          "traceback": [
            "\u001b[0;31m---------------------------------------------------------------------------\u001b[0m",
            "\u001b[0;31mModuleNotFoundError\u001b[0m                       Traceback (most recent call last)",
            "\u001b[0;32m<ipython-input-8-8770a181f2ff>\u001b[0m in \u001b[0;36m<module>\u001b[0;34m()\u001b[0m\n\u001b[0;32m----> 1\u001b[0;31m \u001b[0;32mfrom\u001b[0m \u001b[0mpyspark\u001b[0m\u001b[0;34m.\u001b[0m\u001b[0msql\u001b[0m \u001b[0;32mimport\u001b[0m \u001b[0mSparkSession\u001b[0m\u001b[0;34m\u001b[0m\u001b[0;34m\u001b[0m\u001b[0m\n\u001b[0m\u001b[1;32m      2\u001b[0m \u001b[0;32mfrom\u001b[0m \u001b[0mpyspark\u001b[0m\u001b[0;34m.\u001b[0m\u001b[0msql\u001b[0m\u001b[0;34m.\u001b[0m\u001b[0mfunctions\u001b[0m \u001b[0;32mimport\u001b[0m \u001b[0mcol\u001b[0m\u001b[0;34m,\u001b[0m \u001b[0mcount\u001b[0m\u001b[0;34m\u001b[0m\u001b[0;34m\u001b[0m\u001b[0m\n\u001b[1;32m      3\u001b[0m \u001b[0;34m\u001b[0m\u001b[0m\n\u001b[1;32m      4\u001b[0m \u001b[0;31m# global spark session\u001b[0m\u001b[0;34m\u001b[0m\u001b[0;34m\u001b[0m\u001b[0;34m\u001b[0m\u001b[0m\n\u001b[1;32m      5\u001b[0m spark = (SparkSession\n",
            "\u001b[0;31mModuleNotFoundError\u001b[0m: No module named 'pyspark'",
            "",
            "\u001b[0;31m---------------------------------------------------------------------------\u001b[0;32m\nNOTE: If your import is failing due to a missing package, you can\nmanually install dependencies using either !pip or !apt.\n\nTo view examples of installing some common dependencies, click the\n\"Open Examples\" button below.\n\u001b[0;31m---------------------------------------------------------------------------\u001b[0m\n"
          ]
        }
      ]
    },
    {
      "cell_type": "markdown",
      "metadata": {
        "id": "4OgUTJMnPGTo"
      },
      "source": [
        "## Solution Ex.3\n",
        " 1. Show how many hobbies each person has."
      ]
    },
    {
      "cell_type": "code",
      "metadata": {
        "pycharm": {
          "name": "#%%\n"
        },
        "id": "tXSUauykPGTo",
        "outputId": "0ce384d1-1590-4e93-eee5-420d29b747c0"
      },
      "source": [
        "# Space for you solution\n",
        "new_df = persons_df.join(hobbies_df, on=['id'], how='left_outer')\n",
        "new_df = new_df.filter(col(\"hobby\").isNotNull())\n",
        "new_df.groupBy(\"id\", \"name\"). \\\n",
        "    agg(count(col(\"id\")).alias(\"count_hobby\")). \\\n",
        "    orderBy(\"id\", \"name\"). \\\n",
        "    show()"
      ],
      "execution_count": null,
      "outputs": [
        {
          "output_type": "stream",
          "text": [
            "+---+----+-----------+\n",
            "| id|name|count_hobby|\n",
            "+---+----+-----------+\n",
            "|  1|Mary|          3|\n",
            "|  2|John|          1|\n",
            "+---+----+-----------+\n",
            "\n"
          ],
          "name": "stdout"
        }
      ]
    },
    {
      "cell_type": "markdown",
      "metadata": {
        "collapsed": false,
        "pycharm": {
          "name": "#%% md\n"
        },
        "id": "McMBJFZQPGTo"
      },
      "source": [
        "2. Show all hobbies that no one has."
      ]
    },
    {
      "cell_type": "code",
      "metadata": {
        "pycharm": {
          "name": "#%%\n"
        },
        "id": "kdAvWOkyPGTo",
        "outputId": "b36d6894-eb3d-414a-8f9c-194d7fe18b3b"
      },
      "source": [
        "# Space for you solution\n",
        "another_df = hobbies_df.join(persons_df, on=['id'], how='left_outer')\n",
        "another_df.filter(col(\"name\").isNull()).show()"
      ],
      "execution_count": null,
      "outputs": [
        {
          "output_type": "stream",
          "text": [
            "+---+------+----+\n",
            "| id| hobby|name|\n",
            "+---+------+----+\n",
            "|  3|Soccer|null|\n",
            "+---+------+----+\n",
            "\n"
          ],
          "name": "stdout"
        }
      ]
    }
  ]
}